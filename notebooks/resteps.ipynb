{
 "cells": [
  {
   "cell_type": "markdown",
   "metadata": {},
   "source": [
    "## Balaji source scenarios orig\n",
    "\n",
    "`C:\\dev\\05_geodata\\articles\\balaji_global_soils_eval\\porijogi`\n",
    "\n",
    "## Orig Pori projects \n",
    "\n",
    "`C:\\dev\\05_geodata\\swat_projects` (2 and 4 interesting)\n",
    "\n",
    "\n",
    "- make new work copies of original Swat TxtInOut scenarios, *shutil*\n",
    "- run once, check NSE in notebook\n",
    "- make new working copy of that one\n",
    "- apply pori3 swatcup found values, check NSE in notebook, too\n",
    "- SLSOIL and LAT_TTIME apply\n",
    "- check NSE again\n",
    "- make SwatCup project of that one"
   ]
  },
  {
   "cell_type": "code",
   "execution_count": 5,
   "metadata": {},
   "outputs": [],
   "source": [
    "m = \"\"\"\n",
    "V__SFTMP.bsn\tV__SFTMP.bsn\tV__GW_DELAY.gw\n",
    "V__TIMP.bsn\tV__TIMP.bsn\tV__TIMP.bsn\n",
    "V__SNO50COV.bsn\tV__GW_DELAY.gw\tV__SFTMP.bsn\n",
    "R__CN2.mgt\tV__SMFMN.bsn\tV__SNO50COV.bsn\n",
    "V__GW_DELAY.gw\tV__SMTMP.bsn\tV__SMFMN.bsn\n",
    "V__SMTMP.bsn\tV__SNO50COV.bsn\tV__REVAPMN.gw\n",
    "V__EPCO.hru\tR__CN2.mgt\tV__SMFMX.bsn\n",
    "V__SMFMN.bsn\tV__SMFMX.bsn\tV__GWQMN.gw\n",
    "V__REVAPMN.gw\tV__REVAPMN.gw\tR__CN2.mgt\n",
    "V__SMFMX.bsn\t\tV__EPCO.hru\n",
    "R__CANMX.hru\t\tV__SNOCOVMX.bsn\n",
    "R__SOL_K(..).sol\t\tV__SMTMP.bsn\n",
    "\t\tR__CANMX.hru\n",
    "\n",
    "\"\"\".strip().replace('\\t',',').replace('\\n',',').split(',')"
   ]
  },
  {
   "cell_type": "code",
   "execution_count": 11,
   "metadata": {},
   "outputs": [],
   "source": [
    "hwsd = set(filter(lambda x: not x == '', m))"
   ]
  },
  {
   "cell_type": "code",
   "execution_count": 12,
   "metadata": {},
   "outputs": [
    {
     "name": "stdout",
     "output_type": "stream",
     "text": [
      "V__GWQMN.gw\n",
      "V__SFTMP.bsn\n",
      "V__TIMP.bsn\n",
      "V__REVAPMN.gw\n",
      "V__SMFMX.bsn\n",
      "R__SOL_K(..).sol\n",
      "V__GW_DELAY.gw\n",
      "V__SMTMP.bsn\n",
      "V__EPCO.hru\n",
      "V__SNOCOVMX.bsn\n",
      "V__SNO50COV.bsn\n",
      "V__SMFMN.bsn\n",
      "R__CANMX.hru\n",
      "R__CN2.mgt\n"
     ]
    }
   ],
   "source": [
    "for e in hwsd:\n",
    "    print(e)"
   ]
  },
  {
   "cell_type": "code",
   "execution_count": 16,
   "metadata": {},
   "outputs": [],
   "source": [
    "m = \"\"\"\n",
    "21:V__REVAPMN.gw\t11:V__ALPHA_BF.gw\t11:V__ALPHA_BF.gw\n",
    "11:V__ALPHA_BF.gw\t21:V__REVAPMN.gw\t21:V__REVAPMN.gw\n",
    "22:V__SFTMP.bsn\t17:V__GW_DELAY.gw\t17:V__GW_DELAY.gw\n",
    "29:V__TIMP.bsn\t16:V__ESCO.hru\t29:V__TIMP.bsn\n",
    "8:R__SOL_BD(..).sol\t22:V__SFTMP.bsn\t26:V__SNO50COV.bsn\n",
    "18:V__GWQMN.gw\t29:V__TIMP.bsn\t27:V__SNOCOVMX.bsn\n",
    "26:V__SNO50COV.bsn\t26:V__SNO50COV.bsn\t20:V__LAT_TTIME.hru\n",
    "25:V__SMTMP.bsn\t10:R__SOL_K(..).sol\t18:V__GWQMN.gw\n",
    "10:R__SOL_K(..).sol\t18:V__GWQMN.gw\t22:V__SFTMP.bsn\n",
    "16:V__ESCO.hru\t8:R__SOL_BD(..).sol\t1:A__RCHRG_DP.gw\n",
    "27:V__SNOCOVMX.bsn\t1:A__RCHRG_DP.gw\t3:R__CH_N2.rte\n",
    "17:V__GW_DELAY.gw\t27:V__SNOCOVMX.bsn\t28:V__SURLAG.bsn\n",
    "14:V__CH_N1.sub\t24:V__SMFMX.bsn\t\n",
    "12:V__ALPHA_BNK.rte\t\t\n",
    "19:V__GW_REVAP.gw\t\t\n",
    "4:R__CN2.mgt\t\t\n",
    "15:V__EPCO.hru\t\t\n",
    "\n",
    "\"\"\".strip().replace('\\t',',').replace('\\n',',').split(',')"
   ]
  },
  {
   "cell_type": "code",
   "execution_count": 20,
   "metadata": {},
   "outputs": [
    {
     "data": {
      "text/plain": [
       "{'A__RCHRG_DP.gw',\n",
       " 'R__CH_N2.rte',\n",
       " 'R__CN2.mgt',\n",
       " 'R__SOL_BD(..).sol',\n",
       " 'R__SOL_K(..).sol',\n",
       " 'V__ALPHA_BF.gw',\n",
       " 'V__ALPHA_BNK.rte',\n",
       " 'V__CH_N1.sub',\n",
       " 'V__EPCO.hru',\n",
       " 'V__ESCO.hru',\n",
       " 'V__GWQMN.gw',\n",
       " 'V__GW_DELAY.gw',\n",
       " 'V__GW_REVAP.gw',\n",
       " 'V__LAT_TTIME.hru',\n",
       " 'V__REVAPMN.gw',\n",
       " 'V__SFTMP.bsn',\n",
       " 'V__SMFMX.bsn',\n",
       " 'V__SMTMP.bsn',\n",
       " 'V__SNO50COV.bsn',\n",
       " 'V__SNOCOVMX.bsn',\n",
       " 'V__SURLAG.bsn',\n",
       " 'V__TIMP.bsn'}"
      ]
     },
     "execution_count": 20,
     "metadata": {},
     "output_type": "execute_result"
    }
   ],
   "source": [
    "isric10 = set(filter(lambda x: not x == '', m))\n"
   ]
  },
  {
   "cell_type": "code",
   "execution_count": 21,
   "metadata": {},
   "outputs": [
    {
     "name": "stdout",
     "output_type": "stream",
     "text": [
      "V__ALPHA_BNK.rte\n",
      "V__EPCO.hru\n",
      "V__GW_REVAP.gw\n",
      "R__SOL_BD(..).sol\n",
      "R__CN2.mgt\n",
      "V__GW_DELAY.gw\n",
      "V__ESCO.hru\n",
      "V__GWQMN.gw\n",
      "V__TIMP.bsn\n",
      "V__SMFMX.bsn\n",
      "V__ALPHA_BF.gw\n",
      "V__CH_N1.sub\n",
      "V__SNO50COV.bsn\n",
      "V__SFTMP.bsn\n",
      "V__REVAPMN.gw\n",
      "V__SURLAG.bsn\n",
      "A__RCHRG_DP.gw\n",
      "R__SOL_K(..).sol\n",
      "V__SMTMP.bsn\n",
      "V__LAT_TTIME.hru\n",
      "R__CH_N2.rte\n",
      "V__SNOCOVMX.bsn\n"
     ]
    }
   ],
   "source": [
    "for e in set(map(lambda x: x.split(':')[1], isric10)):\n",
    "    print(e)"
   ]
  },
  {
   "cell_type": "code",
   "execution_count": 22,
   "metadata": {},
   "outputs": [
    {
     "name": "stdout",
     "output_type": "stream",
     "text": [
      "V__ALPHA_BNK.rte\n",
      "V__GW_REVAP.gw\n",
      "R__SOL_BD(..).sol\n",
      "R__CN2.mgt\n",
      "V__GW_DELAY.gw\n",
      "V__ESCO.hru\n",
      "V__GWQMN.gw\n",
      "V__TIMP.bsn\n",
      "V__SMFMX.bsn\n",
      "V__ALPHA_BF.gw\n",
      "V__CH_N1.sub\n",
      "V__SNO50COV.bsn\n",
      "V__SFTMP.bsn\n",
      "V__REVAPMN.gw\n",
      "V__SURLAG.bsn\n",
      "A__RCHRG_DP.gw\n",
      "R__SOL_K(..).sol\n",
      "V__SMTMP.bsn\n",
      "V__LAT_TTIME.hru\n",
      "R__CH_N2.rte\n",
      "V__SNOCOVMX.bsn\n"
     ]
    }
   ],
   "source": [
    "m = \"\"\"\n",
    "21:V__REVAPMN.gw\t11:V__ALPHA_BF.gw\t11:V__ALPHA_BF.gw\n",
    "11:V__ALPHA_BF.gw\t21:V__REVAPMN.gw\t21:V__REVAPMN.gw\n",
    "22:V__SFTMP.bsn\t17:V__GW_DELAY.gw\t17:V__GW_DELAY.gw\n",
    "8:R__SOL_BD(..).sol\t16:V__ESCO.hru\t29:V__TIMP.bsn\n",
    "29:V__TIMP.bsn\t22:V__SFTMP.bsn\t26:V__SNO50COV.bsn\n",
    "18:V__GWQMN.gw\t26:V__SNO50COV.bsn\t27:V__SNOCOVMX.bsn\n",
    "26:V__SNO50COV.bsn\t29:V__TIMP.bsn\t20:V__LAT_TTIME.hru\n",
    "25:V__SMTMP.bsn\t10:R__SOL_K(..).sol\t18:V__GWQMN.gw\n",
    "10:R__SOL_K(..).sol\t8:R__SOL_BD(..).sol\t22:V__SFTMP.bsn\n",
    "16:V__ESCO.hru\t18:V__GWQMN.gw\t1:A__RCHRG_DP.gw\n",
    "27:V__SNOCOVMX.bsn\t1:A__RCHRG_DP.gw\t3:R__CH_N2.rte\n",
    "17:V__GW_DELAY.gw\t27:V__SNOCOVMX.bsn\t28:V__SURLAG.bsn\n",
    "14:V__CH_N1.sub\t24:V__SMFMX.bsn\t\n",
    "12:V__ALPHA_BNK.rte\t\t\n",
    "19:V__GW_REVAP.gw\t\t\n",
    "4:R__CN2.mgt\t\t\n",
    "\n",
    "\"\"\".strip().replace('\\t',',').replace('\\n',',').split(',')\n",
    "\n",
    "isric5 = set(filter(lambda x: not x == '', m))\n",
    "\n",
    "for e in set(map(lambda x: x.split(':')[1], isric5)):\n",
    "    print(e)"
   ]
  },
  {
   "cell_type": "code",
   "execution_count": 23,
   "metadata": {},
   "outputs": [
    {
     "name": "stdout",
     "output_type": "stream",
     "text": [
      "V__ALPHA_BNK.rte\n",
      "V__GWQMN.gw\n",
      "V__TIMP.bsn\n",
      "V__SFTMP.bsn\n",
      "V__SMFMX.bsn\n",
      "V__CH_N1.sub\n",
      "V__REVAPMN.gw\n",
      "R__SOL_K(..).sol\n",
      "V__GW_DELAY.gw\n",
      "A__RCHRG_DP.gw\n",
      "V__SMTMP.bsn\n",
      "V__LAT_TTIME.hru\n",
      "V__SNO50COV.bsn\n",
      "V__SMFMN.bsn\n",
      "R__SLSOIL.hru\n",
      "R__SOL_BD(..).sol\n",
      "R__CN2.mgt\n"
     ]
    }
   ],
   "source": [
    "m = \"\"\"\n",
    "21:V__REVAPMN.gw\t21:V__REVAPMN.gw\t21:V__REVAPMN.gw\n",
    "18:V__GWQMN.gw\t18:V__GWQMN.gw\t17:V__GW_DELAY.gw\n",
    "22:V__SFTMP.bsn\t22:V__SFTMP.bsn\t18:V__GWQMN.gw\n",
    "26:V__SNO50COV.bsn\t4:R__CN2.mgt\t4:R__CN2.mgt\n",
    "4:R__CN2.mgt\t20:V__LAT_TTIME.hru\t25:V__SMTMP.bsn\n",
    "20:V__LAT_TTIME.hru\t12:V__ALPHA_BNK.rte\t26:V__SNO50COV.bsn\n",
    "12:V__ALPHA_BNK.rte\t26:V__SNO50COV.bsn\t23:V__SMFMN.bsn\n",
    "10:R__SOL_K(..).sol\t24:V__SMFMX.bsn\t29:V__TIMP.bsn\n",
    "1:A__RCHRG_DP.gw\t14:V__CH_N1.sub\t12:V__ALPHA_BNK.rte\n",
    "29:V__TIMP.bsn\t\t6:R__SLSOIL.hru\n",
    "8:R__SOL_BD(..).sol\t\t14:V__CH_N1.sub\n",
    "14:V__CH_N1.sub\t\t\n",
    "\n",
    "\"\"\".strip().replace('\\t',',').replace('\\n',',').split(',')\n",
    "\n",
    "isric1 = set(filter(lambda x: not x == '', m))\n",
    "\n",
    "for e in set(map(lambda x: x.split(':')[1], isric1)):\n",
    "    print(e)"
   ]
  },
  {
   "cell_type": "code",
   "execution_count": 24,
   "metadata": {},
   "outputs": [
    {
     "name": "stdout",
     "output_type": "stream",
     "text": [
      "V__ALPHA_BNK.rte\n",
      "V__GWQMN.gw\n",
      "V__TIMP.bsn\n",
      "V__SFTMP.bsn\n",
      "V__SMFMX.bsn\n",
      "V__CH_N1.sub\n",
      "V__REVAPMN.gw\n",
      "R__SOL_K(..).sol\n",
      "V__GW_DELAY.gw\n",
      "A__RCHRG_DP.gw\n",
      "V__SMTMP.bsn\n",
      "V__LAT_TTIME.hru\n",
      "V__SNO50COV.bsn\n",
      "V__SMFMN.bsn\n",
      "R__SLSOIL.hru\n",
      "R__CN2.mgt\n"
     ]
    }
   ],
   "source": [
    "m = \"\"\"\n",
    "21:V__REVAPMN.gw\t21:V__REVAPMN.gw\t17:V__GW_DELAY.gw\n",
    "18:V__GWQMN.gw\t18:V__GWQMN.gw\t21:V__REVAPMN.gw\n",
    "22:V__SFTMP.bsn\t4:R__CN2.mgt\t4:R__CN2.mgt\n",
    "4:R__CN2.mgt\t22:V__SFTMP.bsn\t18:V__GWQMN.gw\n",
    "26:V__SNO50COV.bsn\t20:V__LAT_TTIME.hru\t25:V__SMTMP.bsn\n",
    "20:V__LAT_TTIME.hru\t12:V__ALPHA_BNK.rte\t26:V__SNO50COV.bsn\n",
    "12:V__ALPHA_BNK.rte\t26:V__SNO50COV.bsn\t29:V__TIMP.bsn\n",
    "10:R__SOL_K(..).sol\t24:V__SMFMX.bsn\t23:V__SMFMN.bsn\n",
    "1:A__RCHRG_DP.gw\t25:V__SMTMP.bsn\t12:V__ALPHA_BNK.rte\n",
    "14:V__CH_N1.sub\t23:V__SMFMN.bsn\t6:R__SLSOIL.hru\n",
    "29:V__TIMP.bsn\t14:V__CH_N1.sub\t\n",
    "\n",
    "\"\"\".strip().replace('\\t',',').replace('\\n',',').split(',')\n",
    "\n",
    "isric250 = set(filter(lambda x: not x == '', m))\n",
    "\n",
    "for e in set(map(lambda x: x.split(':')[1], isric250)):\n",
    "    print(e)"
   ]
  },
  {
   "cell_type": "code",
   "execution_count": 43,
   "metadata": {},
   "outputs": [
    {
     "name": "stdout",
     "output_type": "stream",
     "text": [
      "V__ALPHA_BF.gw\n",
      "V__SFTMP.bsn\n",
      "V__GW_DELAY.gw\n",
      "V__ESCO.hru\n",
      "R__SOL_BD(..).sol\n",
      "V__SMFMX.bsn\n"
     ]
    }
   ],
   "source": [
    "for i in \"\"\"\n",
    "11:V__ALPHA_BF.gw\n",
    "22:V__SFTMP.bsn\n",
    "17:V__GW_DELAY.gw\n",
    "16:V__ESCO.hru\n",
    "8:R__SOL_BD(..).sol\n",
    "24:V__SMFMX.bsn\n",
    "\n",
    "\"\"\".strip().replace('\\t',',').replace('\\n',',').split(','):\n",
    "    print(i.split(':')[1])"
   ]
  },
  {
   "cell_type": "code",
   "execution_count": 45,
   "metadata": {},
   "outputs": [
    {
     "name": "stdout",
     "output_type": "stream",
     "text": [
      "V__TIMP.bsn\n",
      "V__SFTMP.bsn\n",
      "V__ALPHA_BF.gw\n",
      "V__SMFMX.bsn\n",
      "V__GW_DELAY.gw\n",
      "V__LAT_TTIME.hru\n",
      "V__GW_REVAP.gw\n",
      "V__SNO50COV.bsn\n",
      "R__SOL_BD(..).sol\n",
      "V__ESCO.hru\n"
     ]
    }
   ],
   "source": [
    "m = \"\"\"\n",
    "V__ALPHA_BF.gw\tV__ALPHA_BF.gw\tV__ALPHA_BF.gw\n",
    "V__SFTMP.bsn\tV__SFTMP.bsn\tV__GW_DELAY.gw\n",
    "V__ESCO.hru\tV__GW_DELAY.gw\tV__SMFMX.bsn\n",
    "V__GW_REVAP.gw\tV__ESCO.hru\tV__TIMP.bsn\n",
    "V__SMFMX.bsn\tR__SOL_BD(..).sol\tV__LAT_TTIME.hru\n",
    "R__SOL_BD(..).sol\tV__SMFMX.bsn\tV__SNO50COV.bsn\n",
    "\"\"\".strip().replace('\\t',',').replace('\\n',',').split(',')\n",
    "\n",
    "pori = set(filter(lambda x: not x == '', m))\n",
    "\n",
    "for e in set(map(lambda x: x, pori)):\n",
    "    print(e)"
   ]
  },
  {
   "cell_type": "code",
   "execution_count": 46,
   "metadata": {},
   "outputs": [
    {
     "name": "stdout",
     "output_type": "stream",
     "text": [
      "V__ALPHA_BNK.rte\n",
      "V__EPCO.hru\n",
      "V__GW_REVAP.gw\n",
      "V__SMFMN.bsn\n",
      "R__SOL_BD(..).sol\n",
      "R__CN2.mgt\n",
      "V__GW_DELAY.gw\n",
      "V__ESCO.hru\n",
      "V__GWQMN.gw\n",
      "V__TIMP.bsn\n",
      "V__ALPHA_BF.gw\n",
      "V__SMFMX.bsn\n",
      "V__CH_N1.sub\n",
      "V__SNO50COV.bsn\n",
      "V__SFTMP.bsn\n",
      "V__REVAPMN.gw\n",
      "A__RCHRG_DP.gw\n",
      "V__SURLAG.bsn\n",
      "R__SOL_K(..).sol\n",
      "V__SMTMP.bsn\n",
      "V__LAT_TTIME.hru\n",
      "R__CH_N2.rte\n",
      "V__SNOCOVMX.bsn\n",
      "R__CANMX.hru\n",
      "R__SLSOIL.hru\n"
     ]
    }
   ],
   "source": [
    "m = \"\"\"\n",
    "V__GW_DELAY.gw\n",
    "V__ALPHA_BF.gw\n",
    "V__REVAPMN.gw\n",
    "V__SFTMP.bsn\n",
    "V__TIMP.bsn\n",
    "V__SNO50COV.bsn\n",
    "V__ESCO.hru\n",
    "R__SOL_BD(..).sol\n",
    "V__GWQMN.gw\n",
    "V__SNOCOVMX.bsn\n",
    "A__RCHRG_DP.gw\n",
    "R__CH_N2.rte\n",
    "V__SURLAG.bsn\n",
    "V__LAT_TTIME.hru\n",
    "R__SOL_K(..).sol\n",
    "V__SMFMX.bsn\n",
    "V__CH_N1.sub\n",
    "V__ALPHA_BNK.rte\n",
    "V__GW_REVAP.gw\n",
    "R__CN2.mgt\n",
    "V__EPCO.hru\n",
    "V__SMTMP.bsn\n",
    "V__SFTMP.bsn\n",
    "V__TIMP.bsn\n",
    "V__GW_DELAY.gw\n",
    "V__SNO50COV.bsn\n",
    "V__SMFMN.bsn\n",
    "R__CN2.mgt\n",
    "V__SMTMP.bsn\n",
    "V__REVAPMN.gw\n",
    "V__SMFMX.bsn\n",
    "V__EPCO.hru\n",
    "R__CANMX.hru\n",
    "V__GWQMN.gw\n",
    "V__SNOCOVMX.bsn\n",
    "R__SOL_K(..).sol\n",
    "V__ALPHA_BF.gw\n",
    "V__SMFMX.bsn\n",
    "V__SFTMP.bsn\n",
    "V__GW_DELAY.gw\n",
    "V__ESCO.hru\n",
    "R__SOL_BD(..).sol\n",
    "V__TIMP.bsn\n",
    "V__GW_REVAP.gw\n",
    "V__LAT_TTIME.hru\n",
    "V__SNO50COV.bsn\n",
    "V__ALPHA_BF.gw\n",
    "V__REVAPMN.gw\n",
    "V__TIMP.bsn\n",
    "V__SFTMP.bsn\n",
    "V__GW_DELAY.gw\n",
    "V__SNO50COV.bsn\n",
    "V__GWQMN.gw\n",
    "V__SNOCOVMX.bsn\n",
    "R__SOL_BD(..).sol\n",
    "V__ESCO.hru\n",
    "R__SOL_K(..).sol\n",
    "A__RCHRG_DP.gw\n",
    "V__LAT_TTIME.hru\n",
    "V__SMTMP.bsn\n",
    "R__CH_N2.rte\n",
    "V__SURLAG.bsn\n",
    "V__SMFMX.bsn\n",
    "V__CH_N1.sub\n",
    "V__ALPHA_BNK.rte\n",
    "V__GW_REVAP.gw\n",
    "R__CN2.mgt\n",
    "V__REVAPMN.gw\n",
    "V__GWQMN.gw\n",
    "R__CN2.mgt\n",
    "V__SNO50COV.bsn\n",
    "V__ALPHA_BNK.rte\n",
    "V__CH_N1.sub\n",
    "V__SFTMP.bsn\n",
    "V__LAT_TTIME.hru\n",
    "V__TIMP.bsn\n",
    "V__GW_DELAY.gw\n",
    "V__SMTMP.bsn\n",
    "V__SMFMN.bsn\n",
    "V__SMFMX.bsn\n",
    "R__SOL_K(..).sol\n",
    "A__RCHRG_DP.gw\n",
    "R__SLSOIL.hru\n",
    "R__SOL_BD(..).sol\n",
    "V__REVAPMN.gw\n",
    "V__GWQMN.gw\n",
    "R__CN2.mgt\n",
    "V__SNO50COV.bsn\n",
    "V__ALPHA_BNK.rte\n",
    "V__SFTMP.bsn\n",
    "V__LAT_TTIME.hru\n",
    "V__SMTMP.bsn\n",
    "V__TIMP.bsn\n",
    "V__SMFMN.bsn\n",
    "V__CH_N1.sub\n",
    "V__GW_DELAY.gw\n",
    "V__SMFMX.bsn\n",
    "R__SOL_K(..).sol\n",
    "A__RCHRG_DP.gw\n",
    "R__SLSOIL.hru\n",
    "\"\"\".strip().replace('\\t',',').replace('\\n',',').split(',')\n",
    "\n",
    "all_par = set(filter(lambda x: not x == '', m))\n",
    "\n",
    "for e in set(map(lambda x: x, all_par)):\n",
    "    print(e)"
   ]
  },
  {
   "cell_type": "code",
   "execution_count": 52,
   "metadata": {},
   "outputs": [
    {
     "name": "stdout",
     "output_type": "stream",
     "text": [
      "a__RCHRG_DP.gw\n",
      "r__CANMX.hru\n",
      "r__CH_N2.rte\n",
      "r__CN2.mgt\n",
      "r__OV_N.hru\n",
      "r__SLSOIL.hru\n",
      "r__SOL_AWC().sol\n",
      "r__SOL_BD().sol\n",
      "r__SOL_CRK.sol\n",
      "r__SOL_K().sol\n",
      "v__ALPHA_BF.gw\n",
      "v__ALPHA_BNK.rte\n",
      "v__CH_K1.sub\n",
      "v__CH_N1.sub\n",
      "v__EPCO.hru\n",
      "v__ESCO.hru\n",
      "v__GWQMN.gw\n",
      "v__GW_DELAY.gw\n",
      "v__GW_REVAP.gw\n",
      "v__LAT_TTIME.hru\n",
      "v__REVAPMN.gw\n",
      "v__SFTMP.bsn\n",
      "v__SMFMN.bsn\n",
      "v__SMFMX.bsn\n",
      "v__SMTMP.bsn\n",
      "v__SNO50COV.bsn\n",
      "v__SNOCOVMX.bsn\n",
      "v__SURLAG.bsn\n",
      "v__TIMP.bsn\n"
     ]
    }
   ],
   "source": [
    "l = \"\"\"v__SMTMP.bsn\n",
    "v__REVAPMN.gw\n",
    "r__CN2.mgt\n",
    "v__SFTMP.bsn\n",
    "v__SMFMN.bsn\n",
    "v__GW_DELAY.gw\n",
    "r__CANMX.hru\n",
    "v__SNOCOVMX.bsn\n",
    "r__SOL_K().sol\n",
    "r__CH_N2.rte\n",
    "r__SLSOIL.hru\n",
    "v__SMFMX.bsn\n",
    "v__CH_K1.sub\n",
    "v__CH_N1.sub\n",
    "a__RCHRG_DP.gw\n",
    "v__EPCO.hru\n",
    "v__ESCO.hru\n",
    "r__OV_N.hru\n",
    "v__ALPHA_BF.gw\n",
    "v__LAT_TTIME.hru\n",
    "r__SOL_BD().sol\n",
    "r__SOL_AWC().sol\n",
    "v__SNO50COV.bsn\n",
    "v__GW_REVAP.gw\n",
    "r__SOL_CRK.sol\n",
    "v__SURLAG.bsn\n",
    "v__GWQMN.gw\n",
    "v__TIMP.bsn\n",
    "v__ALPHA_BNK.rte\n",
    "\n",
    "\n",
    "\"\"\".strip().replace('\\t',',').replace('\\n',',').split(',')\n",
    "\n",
    "tl = set(filter(lambda x: not x == '', l))\n",
    "\n",
    "for e in sorted(set(map(lambda x: x, tl))):\n",
    "    print(e)"
   ]
  },
  {
   "cell_type": "code",
   "execution_count": 67,
   "metadata": {},
   "outputs": [
    {
     "name": "stdout",
     "output_type": "stream",
     "text": [
      "52437\n"
     ]
    }
   ],
   "source": [
    "# FAST sensitivity\n",
    "# \n",
    "# with N = needed parameter iterations, M= inference factor (SPOTPY default M=4) and d= frequency step (SPOTPY default d=2) and k as the number of parameters of your model.\n",
    "d=2\n",
    "M=4\n",
    "k=21\n",
    "\n",
    "N=k* ( 1 + (4*(M**2)) *(1+( d * ( k-2 ) ) ) ) \n",
    "\n",
    "print(N)\n"
   ]
  },
  {
   "cell_type": "code",
   "execution_count": 62,
   "metadata": {},
   "outputs": [
    {
     "data": {
      "text/plain": [
       "52437"
      ]
     },
     "execution_count": 62,
     "metadata": {},
     "output_type": "execute_result"
    }
   ],
   "source": []
  },
  {
   "cell_type": "code",
   "execution_count": null,
   "metadata": {},
   "outputs": [],
   "source": []
  }
 ],
 "metadata": {
  "kernelspec": {
   "display_name": "Python 3 (daskgeo2020a)",
   "language": "python",
   "name": "python3"
  },
  "language_info": {
   "codemirror_mode": {
    "name": "ipython",
    "version": 3
   },
   "file_extension": ".py",
   "mimetype": "text/x-python",
   "name": "python",
   "nbconvert_exporter": "python",
   "pygments_lexer": "ipython3",
   "version": "3.7.6"
  }
 },
 "nbformat": 4,
 "nbformat_minor": 4
}
